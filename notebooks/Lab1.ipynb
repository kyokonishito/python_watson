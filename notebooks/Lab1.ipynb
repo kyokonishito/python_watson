{
    "nbformat_minor": 1, 
    "cells": [
        {
            "source": "# Licensed under the Apache License, Version 2.0 (the \"License\"); you may\n# not use this file except in compliance with the License. You may obtain\n# a copy of the License at\n#\n#      http://www.apache.org/licenses/LICENSE-2.0\n#\n# Unless required by applicable law or agreed to in writing, software\n# distributed under the License is distributed on an \"AS IS\" BASIS, WITHOUT\n# WARRANTIES OR CONDITIONS OF ANY KIND, either express or implied. See the\n# License for the specific language governing permissions and limitations\n# under the License.", 
            "cell_type": "code", 
            "metadata": {}, 
            "outputs": [], 
            "execution_count": null
        }, 
        {
            "source": "# Lab1: Language Translator \u7ffb\u8a33\n\nhttps://www.ibm.com/watson/jp-ja/developercloud/language-translator.html\n\nWatson Language Translator\u30b5\u30fc\u30d3\u30b9\u306f\u3001\u904e\u53bb\u6570\u5341\u5e74\u306b\u308f\u305f\u308bIBM\u306e\u7814\u7a76\u306e\u6210\u679c\u3067\u3042\u308b\u7d71\u8a08\u7684\u6a5f\u68b0\u7ffb\u8a33\u6280\u8853\u3068\u30cb\u30e5\u30fc\u30e9\u30eb\u30fb\u30cd\u30c3\u30c8\u30ef\u30fc\u30af\u3092\u5229\u7528\u3057\u3066\u3001\u4f1a\u8a71\u30fb\u30cb\u30e5\u30fc\u30b9\u8a18\u4e8b\u30fb\u7279\u8a31\u6587\u66f8\u3068\u3044\u3063\u305f\u30c9\u30e1\u30a4\u30f3\u306b\u6700\u9069\u5316\u3057\u305f\u7ffb\u8a33\u6a5f\u80fd\u3092\u63d0\u4f9b\u3057\u307e\u3059\u3002 Language Translator\u30b5\u30fc\u30d3\u30b9\u306f\u3001\u7ffb\u8a33\u5bfe\u8c61\u306e\u30c6\u30ad\u30b9\u30c8\u306e\u8a00\u8a9e\u3092\u81ea\u52d5\u7684\u306b\u8b58\u5225\u3057\u3001\u304a\u5ba2\u69d8\u306e\u30e6\u30fc\u30b9\u30fb\u30b1\u30fc\u30b9\u306b\u9069\u3057\u305f\u7ffb\u8a33\u30e2\u30c7\u30eb\u306b\u3088\u3063\u3066\u7ffb\u8a33\u3092\u884c\u3046\u3053\u3068\u304c\u3067\u304d\u307e\u3059\u3002\u307e\u305f\u3001\u304a\u5ba2\u69d8\u72ec\u81ea\u306e\u30ab\u30b9\u30bf\u30e0\u8f9e\u66f8\u3092\u767b\u9332\u3057\u3066\u3054\u5229\u7528\u3044\u305f\u3060\u304f\u3053\u3068\u3084\u3001\u6a5f\u68b0\u5b66\u7fd2\u306b\u3088\u308a\u304a\u5ba2\u69d8\u306e\u56fa\u6709\u306e\u30e6\u30fc\u30b9\u30fb\u30b1\u30fc\u30b9\u306b\u5408\u308f\u305b\u305f\u30ab\u30b9\u30bf\u30e0\u7ffb\u8a33\u30e2\u30c7\u30eb\u3092\u4f5c\u6210\u3057\u3066\u304a\u4f7f\u3044\u3044\u305f\u3060\u304f\u3053\u3068\u3082\u53ef\u80fd\u3067\u3059\u3002\n\nAPI Doc: https://cloud.ibm.com/apidocs/language-translator?code=python", 
            "cell_type": "markdown", 
            "metadata": {}
        }, 
        {
            "source": "## 1. \u30b5\u30fc\u30d3\u30b9\u306e\u4f5c\u6210\n[\u30cf\u30f3\u30ba\u30aa\u30f3\u8cc7\u6599](https://speakerdeck.com/kyokonishito/watson-studio-watson-api-hands-on)\u306b\u5f93\u3044\u3001IBM Cloud\u306eWeb\u753b\u9762\u304b\u3089`Language Translator`\u30b5\u30fc\u30d3\u30b9\u3092\u4f5c\u6210\u3057\u3066\u304f\u3060\u3055\u3044\u3002", 
            "cell_type": "markdown", 
            "metadata": {}
        }, 
        {
            "source": "## 2. \u8cc7\u683c\u60c5\u5831\u53d6\u5f97\n[\u30cf\u30f3\u30ba\u30aa\u30f3\u8cc7\u6599](https://speakerdeck.com/kyokonishito/watson-studio-watson-api-hands-on)\u306b\u5f93\u3044\u3001\u3000\u4f5c\u6210\u3057\u305f`Language Translator`\u306e\u8cc7\u683c\u60c5\u5831\u3067\u3042\u308bAPI KEY(API\u9375)\u3068URL\u3092\u4e0b\u306e\u30bb\u30eb\u306e\u5909\u6570\u306b\u30bb\u30c3\u30c8\u3057\u3066\u5b9f\u884c\u3057\u3066\u304f\u3060\u3055\u3044\u3002", 
            "cell_type": "markdown", 
            "metadata": {}
        }, 
        {
            "source": "API_KEY='XXXXXXXXXXXXXX'\nAPI_URL='XXXXXXXXXXXXXX'", 
            "cell_type": "code", 
            "metadata": {}, 
            "outputs": [], 
            "execution_count": null
        }, 
        {
            "source": "## 3.  \u6700\u65b0\u306e Watson Developer Cloud, \u30d1\u30c3\u30b1\u30fc\u30b8\u306e\u5c0e\u5165\nWatson API\u306epython SDK\u3067\u3042\u308bWatson Developer Cloud\u30d1\u30c3\u30b1\u30fc\u30b8\u3092\u5c0e\u5165\u3057\u307e\u3059\u3002\n\n\u53c2\u8003: https://cloud.ibm.com/apidocs/language-translator?code=python\n\n\u4e0b\u306e\u30bb\u30eb\u3092\u5b9f\u884c\u3057\u3066\u304f\u3060\u3055\u3044\u3002", 
            "cell_type": "markdown", 
            "metadata": {}
        }, 
        {
            "source": "!pip install --upgrade \"ibm-watson>=3.0.3\"\n", 
            "cell_type": "code", 
            "metadata": {}, 
            "outputs": [], 
            "execution_count": null
        }, 
        {
            "source": "## 4. API\u547c\u3073\u51fa\u3057\n### 4.1 \u30a4\u30f3\u30b9\u30bf\u30f3\u30b9\u4f5c\u6210\n\n\u53c2\u8003: https://cloud.ibm.com/apidocs/language-translator?code=python#authentication\n\nversion\u306f\u7279\u306b\u6307\u5b9a\u304c\u306a\u3051\u308c\u3070https://cloud.ibm.com/apidocs/language-translator?code=python#versioning\u3000\u3092\u53c2\u7167\u3057\u3066\u6700\u65b0\u306e\u3082\u306e\u3092\u8a18\u5165\u30022019\u5e746\u67085\u65e5\u73fe\u5728\u306e\u6700\u65b0version`2018-05-01`\u3092\u8a18\u5165\u6e08\u307f\u3002\n\n\u4e0b\u306e\u30bb\u30eb\u3092\u5b9f\u884c\u3057\u3066\u304f\u3060\u3055\u3044\u3002", 
            "cell_type": "markdown", 
            "metadata": {}
        }, 
        {
            "source": "from ibm_watson import LanguageTranslatorV3\n\nlanguage_translator = LanguageTranslatorV3(\n    version='2018-05-01',\n    iam_apikey=API_KEY,\n    url=API_URL\n)", 
            "cell_type": "code", 
            "metadata": {}, 
            "outputs": [], 
            "execution_count": null
        }, 
        {
            "source": "### 4.2 \u7ffb\u8a33 translate\n\u53c2\u8003: https://cloud.ibm.com/apidocs/language-translator?code=python#translate\n\n- \u82f1\u8a9e\u306b\u7ffb\u8a33\u3067\u304d\u308b\u8a00\u8a9e\u3001\u82f1\u8a9e\u304b\u3089\u7ffb\u8a33\u3067\u304d\u308b\u306f21\u8a00\u8a9e\n- \u901a\u5e38\u3042\u308b\u8a00\u8a9e\u304b\u3089\u82f1\u8a9e\u4ee5\u5916\u306e\u8a00\u8a9e\u306b\u7ffb\u8a33\u3057\u305f\u3044\u5834\u5408\u306f\u3001\u4e00\u65e6\u82f1\u8a33\u3057\u4ed6\u306e\u8a00\u8a9e\u306b\u7ffb\u8a33\u3059\u308b\n\n\u4e0b\u8a18\u306esource_text\u306b\u7ffb\u8a33\u3057\u305f\u3044\u6587\u7ae0\u3092\u5165\u308c\u3066\u304f\u3060\u3055\u3044\u3002\u30b5\u30f3\u30d7\u30eb\u306e\u307e\u307e\u3067\u3088\u3051\u308c\u3070\u305d\u306e\u307e\u307e\u3067\u3082\u3088\u3044\u3067\u3059\u3002\n\nmodel_id\u306f\u4ee5\u4e0b\u3092\u53c2\u7167:\nhttps://cloud.ibm.com/docs/services/language-translator?topic=language-translator-translation-models&locale=en\n\n\u4e0b\u306e\u30bb\u30eb\u3092\u5b9f\u884c\u3057\u3066\u304f\u3060\u3055\u3044\u3002", 
            "cell_type": "markdown", 
            "metadata": {}
        }, 
        {
            "source": "source_text = '\u3053\u3093\u306b\u3061\u306f\u3002\u3082\u3046\u6885\u96e8\u3067\u3059\u306d\u3002\u30a2\u30b8\u30b5\u30a4\u304c\u7f8e\u3057\u3044\u5b63\u7bc0\u3067\u3059\u3002'\nMODEL_ID='ja-en'\n\nimport json\n\ntranslation = language_translator.translate(\n    text=source_text,\n    model_id=MODEL_ID).get_result()\nprint(json.dumps(translation, indent=2, ensure_ascii=False))", 
            "cell_type": "code", 
            "metadata": {}, 
            "outputs": [], 
            "execution_count": null
        }, 
        {
            "source": "### 4.3 \u8a00\u8a9e\u5224\u5b9a identify\n\u53c2\u8003: https://cloud.ibm.com/apidocs/language-translator?code=python#identify-language\n\n\u8a00\u8a9e\u5224\u5b9a\u3057\u305f\u3044UTF-8\u306e\u30c6\u30ad\u30b9\u30c8\u30c7\u30fc\u30bf\u3092API\u306b\u6e21\u3059\u3068\u8a00\u8a9e\u5224\u5b9a\u7d50\u679c\u3092\u8fd4\u3057\u307e\u3059\u3002\n62\u8a00\u8a9e\u306e\u5224\u5b9a\u304c\u53ef\u80fd\u3067\u3059\u3002\n62\u8a00\u8a9e\u306e\u4e00\u89a7\u3000https://console.bluemix.net/docs/services/language-translator/identifiable-languages.html?locale=en#identifiable-languages\n\n\u4e0b\u8a18\u306esource_text\u306b\u8a00\u8a9e\u5224\u5b9a\u3057\u305f\u3044\u6587\u7ae0\u3092\u5165\u308c\u3066\u304f\u3060\u3055\u3044\u3002\u30b5\u30f3\u30d7\u30eb\u306e\u307e\u307e\u3067\u3088\u3051\u308c\u3070\u305d\u306e\u307e\u307e\u3067\u3082\u3088\u3044\u3067\u3059\u3002\n\n\u4e0b\u306e\u30bb\u30eb\u3092\u5b9f\u884c\u3057\u3066\u304f\u3060\u3055\u3044\u3002", 
            "cell_type": "markdown", 
            "metadata": {}
        }, 
        {
            "source": "source_text = '\u3053\u3093\u306b\u3061\u306f\u3002\u3082\u3046\u6885\u96e8\u3067\u3059\u306d\u3002\u30a2\u30b8\u30b5\u30a4\u304c\u7f8e\u3057\u3044\u5b63\u7bc0\u3067\u3059\u3002'\n\nlanguage = language_translator.identify(\n   source_text).get_result()\nprint(json.dumps(language, indent=2))", 
            "cell_type": "code", 
            "metadata": {}, 
            "outputs": [], 
            "execution_count": null
        }, 
        {
            "source": "### 4.4 Upload\u3057\u305f\u30d5\u30a1\u30a4\u30eb\u3092\u8aad\u307f\u8fbc\u3093\u3067\u7ffb\u8a33\n\nLanguage Translator\u30b5\u30fc\u30d3\u30b9\u3068\u306f\u76f4\u63a5\u95a2\u4fc2\u3042\u308a\u307e\u305b\u3093\u304c\u3001\u5f8c\u306e\u30cf\u30f3\u30ba\u30aa\u30f3\u3067\u81ea\u5206\u306e\u30d5\u30a1\u30a4\u30eb\u3092\u4f7f\u3046\u5834\u5408\u306e\u305f\u3081\u306eWatson Studio Notebook\u3067\u30d5\u30a1\u30a4\u30eb\u306e\u53d6\u308a\u6271\u3044\u306e\u7df4\u7fd2\u3092\u3057\u307e\u3059\u3002\n\nWatson Studio\u3000Notebook\u3067\u30d5\u30a1\u30a4\u30eb\u3092\u6271\u3046\u305f\u3081\u306b\u306f\u3001Watson Studio\u3000Notebook\u306e\u4f5c\u696d\u9818\u57df\u306b\u30d5\u30a1\u30a4\u30eb\u3092\u30b3\u30d4\u30fc\u3059\u308b\u5fc5\u8981\u304c\u3042\u308a\u307e\u3059\u3002\n\n**A:** Web\u4e0a\u306b\u516c\u958b\u3055\u308c\u3066\u3044\u308b\u30d5\u30a1\u30a4\u30eb\u306a\u3069\u3001\u3000http, https, ftp\u3067\u53d6\u5f97\u53ef\u80fd\u306a\u30d5\u30a1\u30a4\u30eb\u306fwget\u30b3\u30de\u30f3\u30c9\u3067Notebook\u306e\u4f5c\u696d\u9818\u57df\u306b\u76f4\u63a5\u30c0\u30a6\u30f3\u30ed\u30fc\u30c9\u3057\u307e\u3059\u3002\n\n**B:** \u81ea\u5206\u306ePC\u4e0a\u306e\u30d5\u30a1\u30a4\u30eb\u306f\u3001Watson Studio\u306e\u6a5f\u80fd\u3067\u4e00\u65e6Object Strage\u306bupload\u3057\u3001Notebook\u306e\u4f5c\u696d\u9818\u57df\u306b\u30b3\u30d4\u30fc\u3057\u3066 \u4f7f\u7528\u3057\u307e\u3059\u3002\n", 
            "cell_type": "markdown", 
            "metadata": {}
        }, 
        {
            "source": "### A:  wget\u30b3\u30de\u30f3\u30c9\u3067\u53d6\u5f97\n\u4e0b\u8a18\u306e\u30b3\u30fc\u30c9\u306fwget\u3067Notebook\u306e\u4f5c\u696d\u9818\u57df\u306b\u76f4\u63a5\u30c0\u30a6\u30f3\u30ed\u30fc\u30c9\u3059\u308b\u30b5\u30f3\u30d7\u30eb\u3067\u3059\u3002\n\n\u5148\u982d\u306b `!`\u3092\u3064\u3051\u308b\u3068OS\u306e\u30b3\u30de\u30f3\u30c9\u304c\u5b9f\u884c\u3067\u304d\u307e\u3059\u3002\n`wget <url> -O <\u30d5\u30a1\u30a4\u30eb\u540d>`\u3000\u3067\u30d5\u30a1\u30a4\u30eb\u53d6\u5f97\u304c\u3067\u304d\u307e\u3059\u3002\n\n\u4e0b\u306e\u30bb\u30eb\u3092\u5b9f\u884c\u3057\u3066\u304f\u3060\u3055\u3044\u3002", 
            "cell_type": "markdown", 
            "metadata": {}
        }, 
        {
            "source": "#\u30d5\u30a1\u30a4\u30eb\u306e\u78ba\u8a8d(\u78ba\u8a8d\u7528)\n!ls -la\n#wget\u3067\u30c0\u30a6\u30f3\u30ed\u30fc\u30c9\n!wget https://raw.githubusercontent.com/kyokonishito/python_watson/master/data/sample.txt  -O sample_wget.txt\n#\u30d5\u30a1\u30a4\u30eb\u306e\u78ba\u8a8d(\u78ba\u8a8d\u7528)\n!ls -la\n#\u5185\u5bb9\u306e\u8868\u793a(\u78ba\u8a8d\u7528)\n!cat sample_wget.txt", 
            "cell_type": "code", 
            "metadata": {}, 
            "outputs": [], 
            "execution_count": null
        }, 
        {
            "source": "### B: \u30ed\u30fc\u30ab\u30eb\u306e\u30d5\u30a1\u30a4\u30eb\u3092Object Strage\u306bupload\u3057\u3001Notebook\u306e\u4f5c\u696d\u9818\u57df\u306b\u30b3\u30d4\u30fc\n#### B-1: \u30ed\u30fc\u30ab\u30eb\u306e\u30d5\u30a1\u30a4\u30eb\u306eObject Strage\u3078\u306eupload\n1.  [sample.txt](https://raw.githubusercontent.com/kyokonishito/python_watson/master/data/sample.txt) \u3092\u30c0\u30a6\u30f3\u30ed\u30fc\u30c9\u3057PC\u306b\u4fdd\u5b58\u3057\u307e\u3059\u3002 \u30ea\u30f3\u30af\u3092\u53f3\u30af\u30ea\u30c3\u30af\u3057\u3001\u300c\u30ea\u30f3\u30af\u5148\u3092\u5225\u540d\u3067\u4fdd\u5b58\u300d\u3092\u3057\u3066\u304f\u3060\u3055\u3044\u3002\n \n2. Watson Studio\u306eNotebook\u4e0a\u3001\u53f3\u4e0a\u306e`0100`\u3068\u3044\u3046\u30a2\u30a4\u30b3\u30f3\u3092\u30af\u30ea\u30c3\u30af\u3057\u3001File\u30a2\u30c3\u30d7\u30ed\u30fc\u30c9\u306e\u753b\u9762\u3092\u51fa\u3057\u307e\u3059\u3002`Drop your file here or browse your files to add a new file` \u3068\u66f8\u3044\u3066\u3042\u308b\u5834\u6240\u306b\u30012.1\u3067\u4f5c\u6210\u3057\u305f\u30d5\u30a1\u30a4\u30eb\u3092\u30c9\u30ed\u30c3\u30d7\u3057\u3001Watson Studio\u4e0a\u306eProject\u306b\u30a2\u30c3\u30d7\u30ed\u30fc\u30c9\u3057\u307e\u3059\u3002<br />\n![](https://github.com/kyokonishito/python_watson/raw/master/notebooks/images/upload.png)\n\n<br />\n<br />\n\n3. \u30ed\u30fc\u30c9\u304c\u7d42\u308f\u3063\u305f\u3089Files\u3092\u30af\u30ea\u30c3\u30af\u3057\u3066\u30d5\u30a1\u30a4\u30eb\u304c\u3042\u308b\u3053\u3068\u3092\u78ba\u8a8d\u3057\u3001\u6700\u5f8c\u306b\u2716\ufe0f\u3092\u30af\u30ea\u30c3\u30af\u3057\u3066File\u753b\u9762\u3092\u9589\u3058\u308b<br />\n![](https://github.com/kyokonishito/python_watson/raw/master/notebooks/images/upload_comp.png)\n \n#### B-2: StreamingBody object\u4f5c\u6210\n1. **\u4e0b\u306e\u30bb\u30eb\u3092\u9078\u629e\u3057\u3066\u3001\u7a7a\u306e\u884c\u306b\u30ab\u30fc\u30bd\u30eb\u3092\u7f6e\u3044\u3066\u304f\u3060\u3055\u3044\u3002** \n\n2. \u53f3\u4e0a\u306e`0100`\u30a2\u30a4\u30b3\u30f3\u3092\u30af\u30ea\u30c3\u30af\u3057\u3001\u30a2\u30c3\u30d7\u30ed\u30fc\u30c9\u3057\u305fsample.txt\u30d5\u30a1\u30a4\u30eb\u306e\u4e0b\u306b\u3042\u308b `Insert to code`\u306e\u4e0b\u306b\u3042\u308b`Insert StreamingBody object`\u3092\u30af\u30ea\u30c3\u30af\u3057\u3066\u304f\u3060\u3055\u3044\u3002\n\n3. \u30d5\u30a1\u30a4\u30eb\u3092\u8aad\u307f\u8fbc\u3080\u30b9\u30c8\u30ea\u30fc\u30e0`streaming_body_2`\u3092\u30bb\u30c3\u30c8\u3059\u308b\u30b3\u30fc\u30c9\u304c\u633f\u5165\u3055\u308c\u307e\u3059\u3002\n\n4.  4\u7b87\u6240\u3042\u308b`streaming_body_2`\u306f\u3000\u5168\u3066`streaming_body_1`\u306b\u5909\u66f4\u3057\u307e\u3059\u3002(\u5f8c\u306e\u30b3\u30fc\u30c9\u3067\u4f7f\u7528\u3059\u308b\u305f\u3081)\n\n5.  \u7de8\u96c6\u304c\u7d42\u308f\u3063\u305f\u3089\u30bb\u30eb\u3092\u5b9f\u884c\u3057\u307e\u3059\u3002\n\n<p><span style=\"color: teal\">\n# Your data file was loaded into a botocore.response.StreamingBody object.<br/>\n# Please read the documentation of ibm_boto3 and pandas to learn more about your possibilities to load the data.<br/>\n# ibm_boto3 documentation: https://ibm.github.io/ibm-cos-sdk-python/<br/>\n# pandas documentation: http://pandas.pydata.org/<br/></span>\n<strong>streaming_body_2</strong> = client_xxxxxxxxxxxxxxxxxxxxxxxxxxxxxxxx.get_object(Bucket='wordcloud-donotdelete-pr-wyztdevipqhfkt', Key='sample.txt')['Body']</p>\n<p><span style=\"color: teal\">\n # add missing __iter__ method, so pandas accepts body as file-like object</span>\nif not hasattr(<strong>streaming_body_2</strong>, \"__iter__\"): <strong>streaming_body_2</strong>.__iter__ = types.MethodType( __iter__, <strong>streaming_body_2</strong> ) \n</p>\n\n\n## <span style=\"color: red\">\u3053\u306e\u4e0b\u306b\u5165\u529b </span>", 
            "cell_type": "markdown", 
            "metadata": {}
        }, 
        {
            "source": "# \u3053\u306e\u884c\u306e\u4e0b\u306b\u30ab\u30fc\u30bd\u30eb\u3092\u7f6e\u3044\u3066\u3001Insert StreamingBody object\u3092\u30af\u30ea\u30c3\u30af\n", 
            "cell_type": "code", 
            "metadata": {}, 
            "outputs": [], 
            "execution_count": null
        }, 
        {
            "source": "#### B-3 StreamingBody object\u3092\u4f7f\u3063\u3066\u30d5\u30a1\u30a4\u30eb\u306e\u30b3\u30d4\u30fc\n\u4e0b\u8a18`filename`\u306b\u30d5\u30a1\u30a4\u30eb\u540d\u3092\u30bb\u30c3\u30c8\u3057\u3001\u30bb\u30eb\u3092\u5b9f\u884c\u3057\u3066\u304f\u3060\u3055\u3044\u3002", 
            "cell_type": "markdown", 
            "metadata": {}
        }, 
        {
            "source": "import io\n\nfilename = 'sample_icos.txt'\nfile=io.BytesIO(streaming_body_1.read())   ## Getting a File represented as a BytesIO Object\nwith open(filename,'wb') as out:                    ## Open  filename as bytes\n    out.write(file.read())                                   ## Read bytes into file", 
            "cell_type": "code", 
            "metadata": {}, 
            "outputs": [], 
            "execution_count": null
        }, 
        {
            "source": "#### B-4 (\u30aa\u30d7\u30b7\u30e7\u30f3)\u78ba\u8a8d\n\n\u30b3\u30d4\u30fc\u3067\u304d\u305f\u304b\u306e\u78ba\u8a8d\u3059\u308b\u306b\u306f\u3001\u4e0b\u306e\u30bb\u30eb\u3092\u5b9f\u884c\u3057\u3066\u304f\u3060\u3055\u3044\u3002\n", 
            "cell_type": "markdown", 
            "metadata": {}
        }, 
        {
            "source": "! ls -la\n! cat sample_icos.txt", 
            "cell_type": "code", 
            "metadata": {}, 
            "outputs": [], 
            "execution_count": null
        }, 
        {
            "source": "\u3067\u306f\u65e9\u901f\u8aad\u307f\u8fbc\u3093\u3060\u30d5\u30a1\u30a4\u30eb\u3092\u7ffb\u8a33\u3057\u3066\u307f\u307e\u3057\u3087\u3046!\n\n\u4e0b\u306e\u30bb\u30eb\u3092\u5b9f\u884c\u3057\u3066\u304f\u3060\u3055\u3044\u3002", 
            "cell_type": "markdown", 
            "metadata": {}
        }, 
        {
            "source": "#filename\u306b\u30d5\u30a1\u30a4\u30eb\u540d\u3092\u30bb\u30c3\u30c8\u3002\nfilename = 'sample_icos.txt'\n#filename = 'sample_wget.txt'\n\nMODEL_ID='ja-en'\nwith open(filename, \"r\") as rfp:\n    lines = rfp.readlines()\n    translation = language_translator.translate(\n    text=lines,\n    model_id=MODEL_ID).get_result()\n    print(json.dumps(translation, indent=2, ensure_ascii=False))", 
            "cell_type": "code", 
            "metadata": {
                "scrolled": false
            }, 
            "outputs": [], 
            "execution_count": null
        }, 
        {
            "source": "\u305b\u3063\u304b\u304f\u305f\u304f\u3055\u3093\u82f1\u8a33\u3057\u305f\u306e\u3067\u3001\u30aa\u30de\u30b1\u3067\u4e2d\u56fd\u8a9e\u306b\u7ffb\u8a33\u3057\u3066\u307f\u307e\u3059\u3002\n(\u901a\u5e38\u3042\u308b\u8a00\u8a9e\u304b\u3089\u82f1\u8a9e\u4ee5\u5916\u306e\u8a00\u8a9e\u306b\u7ffb\u8a33\u3057\u305f\u3044\u5834\u5408\u306f\u3001\u4e00\u65e6\u82f1\u8a33\u3057\u4ed6\u306e\u8a00\u8a9e\u306b\u7ffb\u8a33\u3059\u308b\u5fc5\u8981\u304c\u3042\u308a\u307e\u3059)\n\n\u4e0b\u306e\u30bb\u30eb\u3092\u5b9f\u884c\u3057\u3066\u304f\u3060\u3055\u3044\u3002", 
            "cell_type": "markdown", 
            "metadata": {}
        }, 
        {
            "source": "lines =[]\nfor data in translation['translations']:\n    str=data['translation']\n    lines.append(str)\n\nMODEL_ID = 'en-zh'\ntranslation2 = language_translator.translate(\n    text=lines,\n    model_id=MODEL_ID).get_result()\nprint(json.dumps(translation2, indent=2, ensure_ascii=False))", 
            "cell_type": "code", 
            "metadata": {}, 
            "outputs": [], 
            "execution_count": null
        }, 
        {
            "source": "### 4.5 \u30ab\u30b9\u30bf\u30e0\u7ffb\u8a33\u30e2\u30c7\u30eb\n\u62e1\u5f35\u304a\u3088\u3073\u30d7\u30ec\u30df\u30a2\u30e0\u30d7\u30e9\u30f3\u3067\u4f5c\u6210\u53ef\u80fd\u306a\u305f\u3081\u3001\u4eca\u56de\u306e\u30cf\u30f3\u30ba\u30aa\u30f3\u3067\u306f\u5b9f\u65bd\u3057\u307e\u305b\u3093\u3002\n\nLanguage Translator\u306f\u4e8b\u524d\u5b66\u7fd2\u6e08\u307f\u306eAPI\u3067\u3059\u304c\u3001\u696d\u52d9\u56fa\u6709\u306e\u5358\u8a9e\u306a\u3069\u306b\u3064\u3044\u3066\u8ffd\u52a0\u5b66\u7fd2\u3092\u884c\u3044\u3000\u3001\u5c02\u7528\u306e\u300c\u30ab\u30b9\u30bf\u30e0\u7ffb\u8a33\u30e2\u30c7\u30eb\u300d\u304c\u4f5c\u6210\u53ef\u80fd\u3067\u3059\u3002\n\n\u53c2\u7167\uff1a\u3000https://cloud.ibm.com/docs/services/language-translator?topic=language-translator-customizing#customizing\n\nAPI\u3000Doc:\u3000https://cloud.ibm.com/apidocs/language-translator?code=python#create-model", 
            "cell_type": "markdown", 
            "metadata": {}
        }, 
        {
            "source": "# NEXT\n[\u5b8c\u4e86\u306e\u51e6\u7406\u3092\u884c\u3063\u3066](https://github.com/kyokonishito/python_watson#LabComptele)\u3001[Lab2](https://github.com/kyokonishito/python_watson#HandsOn)\u306b\u9032\u3093\u3067\u304f\u3060\u3055\u3044\u3002", 
            "cell_type": "markdown", 
            "metadata": {}
        }
    ], 
    "metadata": {
        "kernelspec": {
            "display_name": "Python 3.5", 
            "name": "python3", 
            "language": "python"
        }, 
        "language_info": {
            "mimetype": "text/x-python", 
            "nbconvert_exporter": "python", 
            "version": "3.5.5", 
            "name": "python", 
            "file_extension": ".py", 
            "pygments_lexer": "ipython3", 
            "codemirror_mode": {
                "version": 3, 
                "name": "ipython"
            }
        }, 
        "celltoolbar": "Edit Metadata"
    }, 
    "nbformat": 4
}