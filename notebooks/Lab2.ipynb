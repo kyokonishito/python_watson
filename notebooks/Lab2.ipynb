{
    "nbformat_minor": 1, 
    "cells": [
        {
            "source": "# Licensed under the Apache License, Version 2.0 (the \"License\"); you may\n# not use this file except in compliance with the License. You may obtain\n# a copy of the License at\n#\n#      http://www.apache.org/licenses/LICENSE-2.0\n#\n# Unless required by applicable law or agreed to in writing, software\n# distributed under the License is distributed on an \"AS IS\" BASIS, WITHOUT\n# WARRANTIES OR CONDITIONS OF ANY KIND, either express or implied. See the\n# License for the specific language governing permissions and limitations\n# under the License.", 
            "cell_type": "code", 
            "execution_count": null, 
            "outputs": [], 
            "metadata": {}
        }, 
        {
            "source": "# Lab2: Natural Language Understanding \u81ea\u7136\u8a00\u8a9e\u89e3\u6790\n\nhttps://www.ibm.com/watson/services/natural-language-understanding/\n\nNatural Language Understanding\u306f\u3001\u9ad8\u5ea6\u306a\u81ea\u7136\u8a00\u8a9e\u51e6\u7406\u6280\u6cd5\u3092\u4f7f\u7528\u3057\u3066\u8a18\u4e8b\u5185\u5bb9\u3092\u5206\u6790\u3057\u3001\u7b46\u8005\u304c\u6301\u3063\u3066\u3044\u305f\u611f\u60c5\u3092\u6d1e\u5bdf\u3057\u307e\u3059\u3002\n\nAPI Doc: https://cloud.ibm.com/apidocs/natural-language-understanding?code=python", 
            "cell_type": "markdown", 
            "metadata": {}
        }, 
        {
            "source": "## 1. \u30b5\u30fc\u30d3\u30b9\u306e\u4f5c\u6210\n[Watson API\u3092\u4f7f\u3046\u305f\u3081\u306e\u524d\u6e96\u5099: \u30b5\u30fc\u30d3\u30b9\u306e\u4f5c\u6210\u3068\u8cc7\u683c\u60c5\u5831\u306e\u53d6\u5f97](https://qiita.com/nishikyon/items/9b8f697db7ad0a693839)\u306b\u5f93\u3044\u3001IBM Cloud\u306eWeb\u753b\u9762\u304b\u3089`Natural Language Understanding`\u30b5\u30fc\u30d3\u30b9\u3092\u4f5c\u6210\u3057\u3066\u304f\u3060\u3055\u3044\u3002", 
            "cell_type": "markdown", 
            "metadata": {}
        }, 
        {
            "source": "## 2. \u8cc7\u683c\u60c5\u5831\u53d6\u5f97\n[Watson API\u3092\u4f7f\u3046\u305f\u3081\u306e\u524d\u6e96\u5099: \u30b5\u30fc\u30d3\u30b9\u306e\u4f5c\u6210\u3068\u8cc7\u683c\u60c5\u5831\u306e\u53d6\u5f97](https://qiita.com/nishikyon/items/9b8f697db7ad0a693839)\u306b\u5f93\u3044\u3001\u3000\u4f5c\u6210\u3057\u305f`Natural Language Understanding`\u306e\u8cc7\u683c\u60c5\u5831\u3067\u3042\u308bAPI KEY(API\u9375)\u3068URL\u3092\u4e0b\u306e\u30bb\u30eb\u306e\u5909\u6570\u306b\u30bb\u30c3\u30c8\u3057\u3066\u5b9f\u884c\u3057\u3066\u304f\u3060\u3055\u3044\u3002", 
            "cell_type": "markdown", 
            "metadata": {}
        }, 
        {
            "source": "API_KEY='XXXXXXXXXXXXXX'\nAPI_URL='XXXXXXXXXXXXXX'", 
            "cell_type": "code", 
            "execution_count": null, 
            "outputs": [], 
            "metadata": {}
        }, 
        {
            "source": "## 3.  \u6700\u65b0\u306e Watson Developer Cloud, \u30d1\u30c3\u30b1\u30fc\u30b8\u306e\u5c0e\u5165\nWatson API\u306epython SDK\u3067\u3042\u308bWatson Developer Cloud\u30d1\u30c3\u30b1\u30fc\u30b8\u3092\u5c0e\u5165\u3057\u307e\u3059\u3002\n\n\u53c2\u8003: https://cloud.ibm.com/apidocs/natural-language-understanding?code=python\n\n\u4e0b\u306e\u30bb\u30eb\u3092\u5b9f\u884c\u3057\u3066\u304f\u3060\u3055\u3044\u3002", 
            "cell_type": "markdown", 
            "metadata": {}
        }, 
        {
            "source": "!pip install --upgrade \"ibm-watson>=3.0.3\"\n", 
            "cell_type": "code", 
            "execution_count": null, 
            "outputs": [], 
            "metadata": {}
        }, 
        {
            "source": "## 4. API\u547c\u3073\u51fa\u3057\n### 4.1 \u30a4\u30f3\u30b9\u30bf\u30f3\u30b9\u4f5c\u6210\n\n\u53c2\u8003: https://cloud.ibm.com/apidocs/natural-language-understanding?code=python#authentication\n\nversion\u306f\u7279\u306b\u6307\u5b9a\u304c\u306a\u3051\u308c\u3070https://cloud.ibm.com/apidocs/natural-language-understanding?code=python#authentication\u3000\u3092\u53c2\u7167\u3057\u3066\u6700\u65b0\u306e\u3082\u306e\u3092\u8a18\u5165\u30022019\u5e746\u67085\u65e5\u73fe\u5728\u306e\u6700\u65b0version`2018-11-16`\u3092\u8a18\u5165\u6e08\u307f\u3002\n\n\u4e0b\u306e\u30bb\u30eb\u3092\u5b9f\u884c\u3057\u3066\u304f\u3060\u3055\u3044\u3002", 
            "cell_type": "markdown", 
            "metadata": {}
        }, 
        {
            "source": "from ibm_watson import NaturalLanguageUnderstandingV1\n\nnatural_language_understanding = NaturalLanguageUnderstandingV1(\n    version='2018-11-16',\n    iam_apikey=API_KEY,\n    url=API_URL\n)\n", 
            "cell_type": "code", 
            "execution_count": null, 
            "outputs": [], 
            "metadata": {}
        }, 
        {
            "source": "### 4.2 \u30c6\u30ad\u30b9\u30c8\u5206\u6790 analyze\n\u53c2\u8003: https://cloud.ibm.com/apidocs/natural-language-understanding?code=python#analyze-text\n\n\u30c6\u30ad\u30b9\u30c8\u3092\u5206\u6790\u3057\u3001\u6982\u5ff5\u3001\u30a8\u30f3\u30c6\u30a3\u30c6\u30a3\u30fc\u3001\u30ad\u30fc\u30ef\u30fc\u30c9\u3001\u30ab\u30c6\u30b4\u30ea\u30fc\u3001\u611f\u60c5\u3001\u95a2\u4fc2\u3001\u610f\u5473\u5f79\u5272\u306a\u3069\u306e\u30e1\u30bf\u30c7\u30fc\u30bf\u3092\u62bd\u51fa\u3057\u307e\u3059\u3002\n\n\u62bd\u51fa\u3067\u304d\u308b\u3082\u306e\n- \u30a8\u30f3\u30c6\u30a3\u30c6\u30a3(Entities)\n- \u95a2\u4fc2(Relations)\n- \u6982\u5ff5(Concepts)\n- \u30ad\u30fc\u30ef\u30fc\u30c9(Keywords)\n- \u8a55\u5224 (Sentiment)\n- \u611f\u60c5 (Emotion) \u203b\n- \u30ab\u30c6\u30b4\u30ea\u30fc(Categories)\n- \u69cb\u6587\u89e3\u6790(Semantic Roles)\n\n\u203b \u611f\u60c5\u5206\u6790(Emotion)\u306f\u65e5\u672c\u8a9e\u306b\u306f\u5bfe\u5fdc\u3057\u3066\u3044\u307e\u305b\u3093\n\n### 4.2.1 \u30c6\u30ad\u30b9\u30c8\u5206\u6790 \u82f1\u6587\u30b5\u30f3\u30d7\u30eb\n\u4e0b\u8a18\u306e\u30b3\u30fc\u30c9\u306f\u82f1\u6587\u306e\u30a8\u30f3\u30c6\u30a3\u30c6\u30a3\u3001\u30ad\u30fc\u30ef\u30fc\u30c9\u3092\u62bd\u51fa\u3057\u3001\u305d\u308c\u305e\u308c\u306eSentiment\u3068Emotion\u3092\u51fa\u3057\u3066\u3044\u307e\u3059\u3002\n\u4e0b\u306e\u30bb\u30eb\u3092\u5b9f\u884c\u3057\u3066\u3001\u7d50\u679c\u3092\u78ba\u8a8d\u3057\u3066\u307f\u3066\u304f\u3060\u3055\u3044\u3002", 
            "cell_type": "markdown", 
            "metadata": {}
        }, 
        {
            "source": "import json\nfrom ibm_watson.natural_language_understanding_v1 \\\n    import Features, EntitiesOptions, KeywordsOptions\n\nresponse = natural_language_understanding.analyze(\n    text='IBM is an American multinational technology company '\n    'headquartered in Armonk, New York, United States, '\n    'with operations in over 170 countries.',\n    features=Features(#Features\u3067\u62bd\u51fa\u3059\u308b\u30e1\u30bf\u30c7\u30fc\u30bf\u3092\u6307\u5b9a\u3057\u307e\u3059\n        entities=EntitiesOptions(emotion=True, sentiment=True, limit=2),#Emotion\u306f\u82f1\u8a9e\u306e\u307f\u5bfe\u5fdc\u3057\u307e\u3059\n        keywords=KeywordsOptions(emotion=True, sentiment=True,\n                                 limit=2))).get_result()\n\nprint(json.dumps(response, indent=2))", 
            "cell_type": "code", 
            "execution_count": null, 
            "outputs": [], 
            "metadata": {}
        }, 
        {
            "source": "### 4.2.3 \u30c6\u30ad\u30b9\u30c8\u5206\u6790 URL\u3067\u6307\u5b9a\n\n\u4eca\u5ea6\u306f\u5206\u6790\u3057\u305f\u3044\u30c6\u30ad\u30b9\u30c8\u3092URL\u3067\u6307\u5b9a\u3057\u3066\u307f\u307e\u3057\u3087\u3046\u3002\n\u5206\u6790\u3057\u305f\u3044\u30c6\u30ad\u30b9\u30c8\u306e\u3042\u308bURL\u3092URL_TO_ANALIZE\u306b\u30bb\u30c3\u30c8\u3057\u3066\u304f\u3060\u3055\u3044\u3002\u305d\u306e\u307e\u307e\u3067\u3082\u5b9f\u884c\u53ef\u80fd\u3067\u3059\u3002\u521d\u671f\u5024\u306f\u304a\u306a\u3058\u307fWikipedia\u306e\u540d\u53e4\u5c4b\u4e0a\u306eURL\u3067\u3059\u3002\n\n`features=Features(\uff09`\u3067\u6307\u5b9a\u3057\u3066\u3044\u308b\u30aa\u30d7\u30b7\u30e7\u30f3\u3082\u3044\u308d\u3044\u308d\u5909\u66f4\u3057\u3066\u307f\u307e\u3057\u3087\u3046\u3002\nhttps://cloud.ibm.com/apidocs/natural-language-understanding?code=python#analyze-text\u3000\u306eRequest\u306ePARAMETERS\u306e\u4e2d\u306efeatures\u306e\u4e0b\u306e`features`\u306e\u30ea\u30f3\u30af\u3092\u30af\u30ea\u30c3\u30af\u3057\u3066\u3001\u4f55\u304c\u6307\u5b9a\u3067\u304d\u308b\u304b\u78ba\u8a8d\u3057\u3066\u3001\u5909\u66f4\u3057\u3066\u307f\u3066\u304f\u3060\u3055\u3044\u3002\n\u65b0\u3057\u3044\u30aa\u30d7\u30b7\u30e7\u30f3\u3092\u8ffd\u52a0\u3057\u305f\u3089\u3001<br />\n` import Features, EntitiesOptions, KeywordsOptions, ConceptsOptions,CategoriesOptions,SentimentOptions\n`<br />\n\u306b\u8a72\u5f53\u30aa\u30d7\u30b7\u30e7\u30f3\u3092\u8ffd\u52a0\u3059\u308b\u306e\u3092\u304a\u5fd8\u308c\u306a\u304f\uff01\n\n\u4e0b\u306e\u30bb\u30eb\u3092\u7de8\u96c6\u5f8c\u3001\u5b9f\u884c\u3057\u3066\u3001\u7d50\u679c\u3092\u78ba\u8a8d\u3057\u3066\u307f\u3066\u304f\u3060\u3055\u3044\u3002", 
            "cell_type": "markdown", 
            "metadata": {}
        }, 
        {
            "source": "URL_TO_ANALIZE = 'https://ja.wikipedia.org/wiki/%E5%90%8D%E5%8F%A4%E5%B1%8B%E5%9F%8E'\n\n\nfrom ibm_watson.natural_language_understanding_v1 \\\n    import Features, EntitiesOptions, KeywordsOptions, ConceptsOptions,CategoriesOptions,SentimentOptions\n\nresponse = natural_language_understanding.analyze(\n    url=URL_TO_ANALIZE,\n    features=Features( \n        concepts=ConceptsOptions(limit=10),\n        categories=CategoriesOptions(limit=10),\n        entities=EntitiesOptions(limit=10),\n        keywords=KeywordsOptions(limit=10),\n        sentiment=SentimentOptions(),\n                \n    )).get_result()\n\nprint(json.dumps(response, indent=2, ensure_ascii=False))", 
            "cell_type": "code", 
            "execution_count": null, 
            "outputs": [], 
            "metadata": {}
        }, 
        {
            "source": "## 5. \u5fdc\u7528\u4f8b\nTwitter\u3084Facebook\u30c6\u30ad\u30b9\u30c8\u304b\u3089\u30ad\u30fc\u30ef\u30fc\u30c9\u5206\u6790\u3057\u305f\u308a\u3001\u30bb\u30f3\u30c1\u30e1\u30f3\u30c8\u5206\u6790\u3057\u305f\u308a\u306a\u3069\u3001\u591a\u6570\u306e\u6587\u7ae0\u3092\u7d44\u307f\u5408\u308f\u305b\u3066\u3044\u308d\u3044\u308d\u8003\u3048\u3089\u308c\u307e\u3059\u3002\u307e\u305fNatural Language Understanding\u3092\u4f7f\u7528\u3057\u3066\u5185\u90e8\u3067\u5206\u6790\u3057\u3001\u305d\u306e\u7d50\u679c\u3092\u691c\u7d22\u3067\u304d\u308b[Watson\n Discovery](https://www.ibm.com/watson/jp-ja/developercloud/discovery.html)\u306a\u3069\u3092\u4f7f\u3046\u3053\u3068\u3082\u3067\u304d\u307e\u3059\u3002\n \n \u53c2\u8003\u8cc7\u6599(\u3053\u3061\u3089\u306f\u672c\u65e5\u5b9f\u65bd\u306e\u5fc5\u8981\u306f\u3042\u308a\u307e\u305b\u3093):\n \n- [Watson Studio\u3067Tweet\u30c7\u30fc\u30bf\u3092\u53ef\u8996\u5316\u3057\u3088\u3046! ]( https://speakerdeck.com/kyokonishito/visualize-tweets-with-watson-studio )   ---- \u5b9f\u884c\u306b\u306fTwitter\u958b\u767a\u8005\u767b\u9332\u304c\u5fc5\u8981\u3067\u3059\u3002\n\n- [PixieDust\u3068\u30b3\u30b0\u30cb\u30c6\u30a3\u30d6Jupyter\u30ce\u30fc\u30c8\u30d6\u30c3\u30af\u3067Facebook\u304b\u3089\u306e\u6d1e\u5bdf\u3092\u767a\u898b\u3059\u308b](https://github.com/IBM/pixiedust-facebook-analysis/blob/master/README-jp.md)", 
            "cell_type": "markdown", 
            "metadata": {}
        }, 
        {
            "source": "# NEXT\n[\u5b8c\u4e86\u306e\u51e6\u7406](https://github.com/kyokonishito/python_watson#LabComptele)\u3092\u884c\u3063\u3066\u3001\u3000[Lab3](https://github.com/kyokonishito/python_watson#HandsOn)\u306b\u9032\u3093\u3067\u304f\u3060\u3055\u3044\u3002", 
            "cell_type": "markdown", 
            "metadata": {}
        }
    ], 
    "nbformat": 4, 
    "metadata": {
        "kernelspec": {
            "display_name": "Python 3.6", 
            "name": "python3", 
            "language": "python"
        }, 
        "language_info": {
            "mimetype": "text/x-python", 
            "nbconvert_exporter": "python", 
            "version": "3.6.8", 
            "name": "python", 
            "pygments_lexer": "ipython3", 
            "file_extension": ".py", 
            "codemirror_mode": {
                "version": 3, 
                "name": "ipython"
            }
        }, 
        "celltoolbar": "Edit Metadata"
    }
}