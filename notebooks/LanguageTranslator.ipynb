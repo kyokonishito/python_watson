{
    "nbformat_minor": 1, 
    "cells": [
        {
            "source": "# Licensed under the Apache License, Version 2.0 (the \"License\"); you may\n# not use this file except in compliance with the License. You may obtain\n# a copy of the License at\n#\n#      http://www.apache.org/licenses/LICENSE-2.0\n#\n# Unless required by applicable law or agreed to in writing, software\n# distributed under the License is distributed on an \"AS IS\" BASIS, WITHOUT\n# WARRANTIES OR CONDITIONS OF ANY KIND, either express or implied. See the\n# License for the specific language governing permissions and limitations\n# under the License.", 
            "cell_type": "code", 
            "metadata": {}, 
            "outputs": [], 
            "execution_count": null
        }, 
        {
            "source": "# Watson API Hands-on-01: Language Translator\n\nhttps://www.ibm.com/watson/jp-ja/developercloud/language-translator.html\n\nWatson Language Translator\u30b5\u30fc\u30d3\u30b9\u306f\u3001\u904e\u53bb\u6570\u5341\u5e74\u306b\u308f\u305f\u308bIBM\u306e\u7814\u7a76\u306e\u6210\u679c\u3067\u3042\u308b\u7d71\u8a08\u7684\u6a5f\u68b0\u7ffb\u8a33\u6280\u8853\u3068\u30cb\u30e5\u30fc\u30e9\u30eb\u30fb\u30cd\u30c3\u30c8\u30ef\u30fc\u30af\u3092\u5229\u7528\u3057\u3066\u3001\u4f1a\u8a71\u30fb\u30cb\u30e5\u30fc\u30b9\u8a18\u4e8b\u30fb\u7279\u8a31\u6587\u66f8\u3068\u3044\u3063\u305f\u30c9\u30e1\u30a4\u30f3\u306b\u6700\u9069\u5316\u3057\u305f\u7ffb\u8a33\u6a5f\u80fd\u3092\u63d0\u4f9b\u3057\u307e\u3059\u3002 Language Translator\u30b5\u30fc\u30d3\u30b9\u306f\u3001\u7ffb\u8a33\u5bfe\u8c61\u306e\u30c6\u30ad\u30b9\u30c8\u306e\u8a00\u8a9e\u3092\u81ea\u52d5\u7684\u306b\u8b58\u5225\u3057\u3001\u304a\u5ba2\u69d8\u306e\u30e6\u30fc\u30b9\u30fb\u30b1\u30fc\u30b9\u306b\u9069\u3057\u305f\u7ffb\u8a33\u30e2\u30c7\u30eb\u306b\u3088\u3063\u3066\u7ffb\u8a33\u3092\u884c\u3046\u3053\u3068\u304c\u3067\u304d\u307e\u3059\u3002\u307e\u305f\u3001\u304a\u5ba2\u69d8\u72ec\u81ea\u306e\u30ab\u30b9\u30bf\u30e0\u8f9e\u66f8\u3092\u767b\u9332\u3057\u3066\u3054\u5229\u7528\u3044\u305f\u3060\u304f\u3053\u3068\u3084\u3001\u6a5f\u68b0\u5b66\u7fd2\u306b\u3088\u308a\u304a\u5ba2\u69d8\u306e\u56fa\u6709\u306e\u30e6\u30fc\u30b9\u30fb\u30b1\u30fc\u30b9\u306b\u5408\u308f\u305b\u305f\u30ab\u30b9\u30bf\u30e0\u7ffb\u8a33\u30e2\u30c7\u30eb\u3092\u4f5c\u6210\u3057\u3066\u304a\u4f7f\u3044\u3044\u305f\u3060\u304f\u3053\u3068\u3082\u53ef\u80fd\u3067\u3059\u3002\n\nAPI Doc: https://cloud.ibm.com/apidocs/language-translator", 
            "cell_type": "markdown", 
            "metadata": {}
        }, 
        {
            "source": "## 0.  \u6700\u65b0\u306e Watson Developer Cloud, \u30d1\u30c3\u30b1\u30fc\u30b8\u306e\u5c0e\u5165\nWatson API\u306epython SDK\u3067\u3042\u308bWatson Developer Cloud\u30d1\u30c3\u30b1\u30fc\u30b8\u3092\u5c0e\u5165\u3057\u307e\u3059\u3002\n\u53c2\u8003: https://cloud.ibm.com/apidocs/language-translator?code=python", 
            "cell_type": "markdown", 
            "metadata": {}
        }, 
        {
            "source": "!pip install --upgrade \"ibm-watson>=3.0.3\"\n", 
            "cell_type": "code", 
            "metadata": {}, 
            "outputs": [], 
            "execution_count": null
        }, 
        {
            "source": "## 1. \u30b5\u30fc\u30d3\u30b9\u306e\u4f5c\u6210\n\u30cf\u30f3\u30ba\u30aa\u30f3\u8cc7\u6599\u306b\u5f93\u3044\u3001`Language Translator`\u30b5\u30fc\u30d3\u30b9\u3092\u4f5c\u6210\u3057\u3066\u304f\u3060\u3055\u3044\u3002", 
            "cell_type": "markdown", 
            "metadata": {}
        }, 
        {
            "source": "## 2. \u8cc7\u683c\u60c5\u5831\u53d6\u5f97\n\u30cf\u30f3\u30ba\u30aa\u30f3\u8cc7\u6599\u306b\u5f93\u3044\u3001\u3000\u4f5c\u6210\u3057\u305f`Language Translator`\u306e\u8cc7\u683c\u60c5\u5831\u3067\u3042\u308bAPI KEY(API\u9375)\u3068URL\u3092\u4e0b\u306e\u30bb\u30eb\u306e\u5909\u6570\u306b\u30bb\u30c3\u30c8\u3057\u3066\u304f\u3060\u3055\u3044\u3002", 
            "cell_type": "markdown", 
            "metadata": {}
        }, 
        {
            "source": "API_KEY='XXXXXXXXXXXXXX'\nAPI_URL='XXXXXXXXXXXXXX'", 
            "cell_type": "code", 
            "metadata": {}, 
            "outputs": [], 
            "execution_count": null
        }, 
        {
            "source": "## 3. API\u547c\u3073\u51fa\u3057\n### 3.1 \u30a4\u30f3\u30b9\u30bf\u30f3\u30b9\u4f5c\u6210\n\n\u53c2\u8003: https://cloud.ibm.com/apidocs/language-translator?code=python#authentication\n\nversion\u306f\u7279\u306b\u6307\u5b9a\u304c\u306a\u3051\u308c\u3070https://cloud.ibm.com/apidocs/language-translator?code=python#versioning\u3000\u3092\u53c2\u7167\u3057\u3066\u6700\u65b0\u306e\u3082\u306e\u3092\u8a18\u5165\u30022019\u5e746\u67085\u65e5\u73fe\u5728\u306e\u6700\u65b0version\u306f`2018-05-01`\n", 
            "cell_type": "markdown", 
            "metadata": {}
        }, 
        {
            "source": "from ibm_watson import LanguageTranslatorV3\n\nlanguage_translator = LanguageTranslatorV3(\n    version='{version}',\n    iam_apikey=API_KEY,\n    url=API_URL\n)", 
            "cell_type": "code", 
            "metadata": {}, 
            "outputs": [], 
            "execution_count": null
        }, 
        {
            "source": "### 3.2 \u7ffb\u8a33 translate\n\u53c2\u8003: https://cloud.ibm.com/apidocs/language-translator?code=python#translate\n\n- \u82f1\u8a9e\u306b\u7ffb\u8a33\u3067\u304d\u308b\u8a00\u8a9e\u3001\u82f1\u8a9e\u304b\u3089\u7ffb\u8a33\u3067\u304d\u308b\u306f21\u8a00\u8a9e\n- \u901a\u5e38\u3042\u308b\u8a00\u8a9e\u304b\u3089\u82f1\u8a9e\u4ee5\u5916\u306e\u8a00\u8a9e\u306b\u7ffb\u8a33\u3057\u305f\u3044\u5834\u5408\u306f\u3001\u4e00\u65e6\u82f1\u8a33\u3057\u4ed6\u306e\u8a00\u8a9e\u306b\u7ffb\u8a33\u3059\u308b\n\n\u4e0b\u8a18\u306esource_text\u306b\u7ffb\u8a33\u3057\u305f\u3044\u6587\u7ae0\u3092\u5165\u308c\u308b\nmodel_id\u306f\u4ee5\u4e0b\u3092\u53c2\u7167:\nhttps://console.bluemix.net/docs/services/language-translator/translation-models.html", 
            "cell_type": "markdown", 
            "attachments": {}, 
            "metadata": {}
        }, 
        {
            "source": "source_text = '\u3053\u3093\u306b\u3061\u306f\u3002\u3082\u3046\u6885\u96e8\u3067\u3059\u306d\u3002\u30a2\u30b8\u30b5\u30a4\u304c\u7f8e\u3057\u3044\u5b63\u7bc0\u3067\u3059\u3002'\nMODEL_ID='ja-en'\n\nimport json\n\ntranslation = language_translator.translate(\n    text=source_text,\n    model_id=MODEL_ID).get_result()\nprint(json.dumps(translation, indent=2, ensure_ascii=False))", 
            "cell_type": "code", 
            "metadata": {}, 
            "outputs": [], 
            "execution_count": null
        }, 
        {
            "source": "### 3.2 \u8a00\u8a9e\u5224\u5b9a identify\n\u53c2\u8003: https://cloud.ibm.com/apidocs/language-translator?code=python#identify-language\n\n\u8a00\u8a9e\u5224\u5b9a\u3057\u305f\u3044UTF-8\u306e\u30c6\u30ad\u30b9\u30c8\u30c7\u30fc\u30bf\u3092API\u306b\u6e21\u3059\u3068\u8a00\u8a9e\u5224\u5b9a\u7d50\u679c\u3092\u8fd4\u3057\u307e\u3059\u3002\n62\u8a00\u8a9e\u306e\u5224\u5b9a\u304c\u53ef\u80fd\u3067\u3059\u3002\n62\u8a00\u8a9e\u306e\u4e00\u89a7\u3000https://console.bluemix.net/docs/services/language-translator/identifiable-languages.html?locale=ja#identifiable-languages![image.png](attachment:image.png)\n\n\u4e0b\u8a18\u306esource_text\u306b\u7ffb\u8a33\u3057\u305f\u3044\u6587\u7ae0\u3092\u5165\u308c\u308b", 
            "cell_type": "markdown", 
            "attachments": {}, 
            "metadata": {}
        }, 
        {
            "source": "source_text = '\u3053\u3093\u306b\u3061\u306f\u3002\u3082\u3046\u6885\u96e8\u3067\u3059\u306d\u3002\u30a2\u30b8\u30b5\u30a4\u304c\u7f8e\u3057\u3044\u5b63\u7bc0\u3067\u3059\u3002'\n\nlanguage = language_translator.identify(\n   source_text).get_result()\nprint(json.dumps(language, indent=2))", 
            "cell_type": "code", 
            "metadata": {}, 
            "outputs": [], 
            "execution_count": null
        }, 
        {
            "source": "### 3.3 \u30ab\u30b9\u30bf\u30e0\u7ffb\u8a33\u30e2\u30c7\u30eb\n\u62e1\u5f35\u304a\u3088\u3073\u30d7\u30ec\u30df\u30a2\u30e0\u30d7\u30e9\u30f3\u3067\u4f5c\u6210\u53ef\u80fd\u306a\u305f\u3081\u3001\u4eca\u56de\u306e\u30cf\u30f3\u30ba\u30aa\u30f3\u3067\u306f\u5b9f\u65bd\u3057\u307e\u305b\u3093\u3002\n\nLanguage Translator\u306f\u4e8b\u524d\u5b66\u7fd2\u6e08\u307f\u306eAPI\u3067\u3059\u304c\u3001\u696d\u52d9\u56fa\u6709\u306e\u5358\u8a9e\u306a\u3069\u306b\u3064\u3044\u3066\u8ffd\u52a0\u5b66\u7fd2\u3092\u884c\u3044\u3000\u3001\u5c02\u7528\u306e\u300c\u30ab\u30b9\u30bf\u30e0\u7ffb\u8a33\u30e2\u30c7\u30eb\u300d\u304c\u4f5c\u6210\u53ef\u80fd\u3067\u3059\u3002\n\n\u53c2\u7167\uff1a\u3000https://cloud.ibm.com/docs/services/language-translator?topic=language-translator-customizing#customizing\n\nAPI\u3000Doc:\u3000https://cloud.ibm.com/apidocs/language-translator?code=python#create-model", 
            "cell_type": "markdown", 
            "attachments": {}, 
            "metadata": {}
        }
    ], 
    "metadata": {
        "kernelspec": {
            "display_name": "Python 3.5", 
            "name": "python3", 
            "language": "python"
        }, 
        "language_info": {
            "mimetype": "text/x-python", 
            "nbconvert_exporter": "python", 
            "version": "3.5.5", 
            "name": "python", 
            "pygments_lexer": "ipython3", 
            "file_extension": ".py", 
            "codemirror_mode": {
                "version": 3, 
                "name": "ipython"
            }
        }, 
        "celltoolbar": "Edit Metadata"
    }, 
    "nbformat": 4
}