{
    "cells": [
        {
            "metadata": {},
            "cell_type": "code",
            "source": "# Licensed under the Apache License, Version 2.0 (the \"License\"); you may\n# not use this file except in compliance with the License. You may obtain\n# a copy of the License at\n#\n#      http://www.apache.org/licenses/LICENSE-2.0\n#\n# Unless required by applicable law or agreed to in writing, software\n# distributed under the License is distributed on an \"AS IS\" BASIS, WITHOUT\n# WARRANTIES OR CONDITIONS OF ANY KIND, either express or implied. See the\n# License for the specific language governing permissions and limitations\n# under the License.",
            "execution_count": null,
            "outputs": []
        },
        {
            "metadata": {},
            "cell_type": "markdown",
            "source": "# Lab3: Visual Recognition \u753b\u50cf\u8a8d\u8b58\n\nhttps://www.ibm.com/watson/jp-ja/developercloud/visual-recognition.html\n\nVisual Recognition\u306fWatson\u306e\u753b\u50cf\u8a8d\u8b58\u6a5f\u80fd\u3067\u3059\u3002\u3059\u3050\u306b\u304a\u4f7f\u3044\u3044\u305f\u3060\u3051\u308b\u3088\u3046\u306bWatson\u304c\u65e2\u306b\u5b66\u7fd2\u3092\u3057\u3066\u304a\u308a\u3001\u753b\u50cf\u30fb\u6620\u50cf\u30d5\u30ec\u30fc\u30e0\u306b\u5199\u3063\u305f\u8907\u6570\u306e\u3082\u306e\u3084\u3001\u60c5\u666f\u3092\u5206\u6790\u30fb\u8a8d\u8b58\u3059\u308b\u3053\u3068\u304c\u3067\u304d\u307e\u3059\u3002\u307e\u305f\u3001\u6a5f\u68b0\u5b66\u7fd2\u306b\u3088\u308aWatson\u306b\u72ec\u81ea\u306e\u5b66\u7fd2\u3092\u3055\u305b\u308b\u3053\u3068\u3082\u3067\u304d\u307e\u3059\u3002\u3059\u3067\u306b\u3001\u81ea\u793e\u88fd\u54c1\u306e\u8a8d\u8b58\u30fb\u5206\u985e\u3084\u3001\u88fd\u9020\u30e9\u30a4\u30f3\u306b\u304a\u3051\u308b\u6b20\u9665\u691c\u51fa\u3068\u3044\u3063\u305f\u591a\u7a2e\u591a\u69d8\u306a\u304a\u5ba2\u69d8\u306e\u696d\u52d9\u3067\u3001\u9ad8\u3044\u7cbe\u5ea6\u306e\u753b\u50cf\u8a8d\u8b58\u3092\u5c11\u306a\u3044\u753b\u50cf\u679a\u6570\u306b\u3088\u308b\u77ed\u6642\u9593\u306e\u6a5f\u68b0\u5b66\u7fd2\u3067\u5b9f\u73fe\u3057\u3066\u3044\u307e\u3059\u3002\u3055\u3089\u306b\u3001\u65e5\u672c\u8a9e\u30fb\u82f1\u8a9e\u3092\u542b\u3080\u591a\u6570\u306e\u8a00\u8a9e\u3067\u8a8d\u8b58\u7d50\u679c\u3092\u8fd4\u3059\u3053\u3068\u304c\u3067\u304d\u307e\u3059\u3002\n\nAPI Doc: https://cloud.ibm.com/apidocs/visual-recognition?code=python\n\n\u5c1a\u3001\u4ee5\u524d\u306f\u300c4.5 \u9854\u691c\u51fa\u300d\u304c\u3042\u308a\u307e\u3057\u305f\u304c\u3001Visual Recognition\u9854\u691c\u51fa\u6a5f\u80fd\u306f2019/09/12\u306b\u5ec3\u6b62\u3068\u306a\u3063\u305f\u305f\u3081\u524a\u9664\u3057\u307e\u3057\u305f\u3002",
            "attachments": {}
        },
        {
            "metadata": {},
            "cell_type": "markdown",
            "source": "## 1. \u30b5\u30fc\u30d3\u30b9\u306e\u4f5c\u6210\n[Watson API\u3092\u4f7f\u3046\u305f\u3081\u306e\u524d\u6e96\u5099: \u30b5\u30fc\u30d3\u30b9\u306e\u4f5c\u6210\u3068\u8cc7\u683c\u60c5\u5831\u306e\u53d6\u5f97](https://qiita.com/nishikyon/items/9b8f697db7ad0a693839)\u306b\u5f93\u3044\u3001IBM Cloud\u306eWeb\u753b\u9762\u304b\u3089`Visual Recognition`\u30b5\u30fc\u30d3\u30b9\u3092\u4f5c\u6210\u3057\u3066\u304f\u3060\u3055\u3044\u3002"
        },
        {
            "metadata": {},
            "cell_type": "markdown",
            "source": "## 2. \u8cc7\u683c\u60c5\u5831\u53d6\u5f97\n[Watson API\u3092\u4f7f\u3046\u305f\u3081\u306e\u524d\u6e96\u5099: \u30b5\u30fc\u30d3\u30b9\u306e\u4f5c\u6210\u3068\u8cc7\u683c\u60c5\u5831\u306e\u53d6\u5f97](https://qiita.com/nishikyon/items/9b8f697db7ad0a693839)\u306b\u5f93\u3044\u3001\u3000\u4f5c\u6210\u3057\u305f`Visual Recognition`\u306e\u8cc7\u683c\u60c5\u5831\u3067\u3042\u308bAPI KEY(API\u9375)\u3068URL\u3092\u4e0b\u306e\u30bb\u30eb\u306e\u5909\u6570\u306b\u30bb\u30c3\u30c8\u3057\u3066\u5b9f\u884c\u3057\u3066\u304f\u3060\u3055\u3044\u3002\n\n(\u305f\u3060\u3057\u30012019\u5e746\u670815\u65e5\u73fe\u5728`Visual Recognition`\u306eURL\u306f1\u3064\u3057\u304b\u306a\u3044\u305f\u3081\u3001URL\u306fAPI\u3067\u6307\u5b9a\u4e0d\u8981\u3068\u306a\u3063\u3066\u3044\u307e\u3059)"
        },
        {
            "metadata": {},
            "cell_type": "code",
            "source": "API_KEY='XXXXXXXXXXXXXX'\nAPI_URL='XXXXXXXXXXXXXX'",
            "execution_count": null,
            "outputs": []
        },
        {
            "metadata": {},
            "cell_type": "markdown",
            "source": "## 3.  \u6700\u65b0\u306e Watson Developer Cloud, \u30d1\u30c3\u30b1\u30fc\u30b8\u306e\u5c0e\u5165\nWatson API\u306epython SDK\u3067\u3042\u308bWatson Developer Cloud\u30d1\u30c3\u30b1\u30fc\u30b8\u3092\u5c0e\u5165\u3057\u307e\u3059\u3002\n\n\u53c2\u8003: https://cloud.ibm.com/apidocs/visual-recognition?code=python\n\n\u4e0b\u306e\u30bb\u30eb\u3092\u5b9f\u884c\u3057\u3066\u304f\u3060\u3055\u3044\u3002"
        },
        {
            "metadata": {},
            "cell_type": "code",
            "source": "!pip install --upgrade \"ibm-watson>=4.0.1,< 5.0\"\n",
            "execution_count": null,
            "outputs": []
        },
        {
            "metadata": {},
            "cell_type": "markdown",
            "source": "## 4. API\u547c\u3073\u51fa\u3057\n### 4.1 \u30a4\u30f3\u30b9\u30bf\u30f3\u30b9\u4f5c\u6210\n\n\u53c2\u8003: https://cloud.ibm.com/apidocs/visual-recognition?code=python#authentication\n\nversion\u306f\u7279\u306b\u6307\u5b9a\u304c\u306a\u3051\u308c\u3070https://cloud.ibm.com/apidocs/visual-recognition?code=python#versioning \u3092\u53c2\u7167\u3057\u3066\u6700\u65b0\u306e\u3082\u306e\u3092\u8a18\u5165\u30022019\u5e746\u67085\u65e5\u73fe\u5728\u306e\u6700\u65b0version`2018-03-19`\u3092\u8a18\u5165\u6e08\u307f\u3002\n\n\u4e0b\u306e\u30bb\u30eb\u3092\u5b9f\u884c\u3057\u3066\u304f\u3060\u3055\u3044\u3002"
        },
        {
            "metadata": {},
            "cell_type": "code",
            "source": "from ibm_watson import VisualRecognitionV3\nfrom ibm_cloud_sdk_core.authenticators import IAMAuthenticator\n\nauthenticator = IAMAuthenticator(API_KEY)\nvisual_recognition = VisualRecognitionV3(\n    version='2018-03-19',\n    authenticator=authenticator\n)",
            "execution_count": null,
            "outputs": []
        },
        {
            "metadata": {},
            "cell_type": "markdown",
            "source": "### 4.2 \u753b\u50cf\u8a8d\u8b58  \u4e00\u822c\u30e2\u30c7\u30eb `default` - url\u3067\u6307\u5b9a-\n\u53c2\u8003: https://cloud.ibm.com/apidocs/visual-recognition?code=python#classify-images\n\n\u4e8b\u524d\u5b66\u7fd2\u6e08\u307f\u306e\u5206\u985e\u5668\u306e\u51fa\u529b\u3092\u8fd4\u3057\u307e\u3059\u3002\n\u4e00\u822c\u30e2\u30c7\u30eb\u3067\u306f\u3001\u6570\u5343\u7a2e\u985e\u306e\u69d8\u3005\u306a\u30af\u30e9\u30b9\u30fb\u30ad\u30fc\u30ef\u30fc\u30c9\u304b\u3089\u8a72\u5f53\u3059\u308b\u3082\u306e\u3092\u8b58\u5225\u3057\u307e\u3059\u3002\u3044\u308f\u3086\u308b\u753b\u50cf\u3078\u306e\u30bf\u30b0\u4ed8\u3051\u3067\u3059\u3002\u30af\u30e9\u30b9\u30fb\u30ad\u30fc\u30ef\u30fc\u30c9\uff08\u30bf\u30b0\uff09\u306f\u3001\u968e\u5c64\u7684\u306b\u30ab\u30c6\u30b4\u30e9\u30a4\u30ba\u3055\u308c\u3066\u3044\u3066\u3001\u6700\u4e0a\u4f4d\u30ab\u30c6\u30b4\u30ea\u30fc\u3068\u3057\u3066\u306f\u3001\u52d5\u7269\u3001 \u4eba\u9593\u304a\u3088\u3073\u500b\u4eba\u3068\u305d\u306e\u30a2\u30af\u30c6\u30a3\u30d3\u30c6\u30a3\u3001\u98df\u54c1\u3001\u690d\u7269\u3001\u30b9\u30dd\u30fc\u30c4\u3001\u81ea\u7136\u3001\u904b\u8f38\u3001\u5bb6\u5177\u3001\u30d5\u30eb\u30fc\u30c4\u3001\u697d\u5668\u3001\u5de5\u5177\u3001\u8272\u3001\u88c5\u7f6e\u30fb\u6a5f\u5668\u3001\u6b66\u5668\u3001\u5efa\u7269\u3001\u69cb\u9020\u7269\u30fb\u4eba\u5de5\u7269\u3001\u8863\u985e\u7b49\u3005\u304c\u3042\u308a\u307e\u3059\u3002\n\n\u5165\u529b:\n\u753b\u50cf\u3092\u9001\u4fe1\u3057\u3066\u8a8d\u8b58\u3055\u305b\u308b\u5834\u5408\uff1a \n- \u8a8d\u8b58\u3055\u305b\u305f\u3044\u753b\u50cf\uff08JPEG\u5f62\u5f0f\u30fbPNG\u5f62\u5f0f\uff09\nURL\u3092\u9001\u4fe1\u3057\u3066\u8a8d\u8b58\u3055\u305b\u308b\u5834\u5408\uff1a \n- \u30a4\u30f3\u30bf\u30fc\u30cd\u30c3\u30c8\u4e0a\u306e\u753b\u50cf\u307e\u305f\u306fWeb\u30b5\u30a4\u30c8\u306eURL\n\n\u51fa\u529b:\n\u753b\u50cf\u8a8d\u8b58\u7d50\u679c\uff1a \n- \u753b\u50cf\u306b\u5199\u3063\u3066\u3044\u308b\u3082\u306e\u3001\u5206\u985e\u7d50\u679c \n- \u30b9\u30b3\u30a2(\u8a8d\u8b58\u7d50\u679c\u306e\u78ba\u4fe1\u5ea6) \n- \u3082\u306e\u30fb\u5206\u985e\u7d50\u679c\u306e\u968e\u5c64\u69cb\u9020 (\u52d5\u7269-\u5bb6\u755c-\u72ac-\u5c0f\u578b\u72ac\uff65\uff65\uff65\u3068\u3044\u3063\u305f\u30bf\u30b0\u306e\u968e\u5c64)\n\n\u6700\u521d\u306furl\u3067\u753b\u50cf\u3092\u6307\u5b9a\u3057\u3066\u8a8d\u8b58\u3055\u305b\u3066\u307f\u307e\u3057\u3087\u3046\uff01\n\u4ee5\u4e0b\u306e\u753b\u50cf\u3092\u8a8d\u8b58\u3055\u305b\u3066\u307f\u307e\u3059\u3002\n<img src=\"https://watson-developer-cloud.github.io/doc-tutorial-downloads/visual-recognition/fruitbowl.jpg\">\n\n\n\u4e0b\u306e\u30bb\u30eb\u3092\u5b9f\u884c\u3057\u3066\u304f\u3060\u3055\u3044\u3002\n\n\u5b9f\u884c\u304c\u3046\u307e\u304f\u3044\u3063\u305f\u3089\u3001\u81ea\u5206\u306e\u597d\u304d\u306a\u753b\u50cf\u306eurl\u3092`image_url`\u306b\u30bb\u30c3\u30c8\u3057\u3066\u5b9f\u884c\u3057\u3066\u307f\u3066\u304f\u3060\u3055\u3044\u3002"
        },
        {
            "metadata": {},
            "cell_type": "code",
            "source": "image_url = 'https://watson-developer-cloud.github.io/doc-tutorial-downloads/visual-recognition/fruitbowl.jpg'\n\nimport json\n\nclasses = visual_recognition.classify(\n        url=image_url,\n        threshold='0.6',\n        accept_language='ja').get_result()\nprint(json.dumps(classes, indent=2,  ensure_ascii=False))",
            "execution_count": null,
            "outputs": []
        },
        {
            "metadata": {},
            "cell_type": "markdown",
            "source": "### 4.3 \u753b\u50cf\u8a8d\u8b58  \u4e00\u822c\u30e2\u30c7\u30eb `default` - \u30d5\u30a1\u30a4\u30eb\u3092\u6307\u5b9a-\n\u53c2\u8003: https://cloud.ibm.com/apidocs/visual-recognition?code=python#classify-images\n\n\u6b21\u306f\u81ea\u5206\u306e\u597d\u304d\u306aPC\u4e0a\u306e\u753b\u50cf\u30d5\u30a1\u30a4\u30eb\u3092\u8a8d\u8b58\u3055\u305b\u3066\u307f\u307e\u307e\u3057\u3087\u3046\u3002\n\u30d5\u30a1\u30a4\u30eb\u306fWatson Studio\u4e0a\u306b\u30a2\u30c3\u30d7\u30ed\u30fc\u30c9\u3057\u3066\u3001Notebook\u306e\u4f5c\u696d\u9818\u57df\u306b\u30b3\u30d4\u30fc\u3059\u308b\u5fc5\u8981\u304c\u3042\u308a\u307e\u3059\u3002\u5c1a\u3001Lab1, Lab2\u3068\u306f\u9055\u3063\u305f\u30b3\u30d4\u30fc\u65b9\u6cd5\u306b\u3057\u3066\u307f\u307e\u3059\u3002\n\n>\u3082\u3057\u304a\u624b\u5143\u306b\u753b\u50cf\u30d5\u30a1\u30a4\u30eb\u304c\u306a\u3044\u5834\u5408\u306f\u3001\u56de\u8ee2\u3059\u3057\u306e\u753b\u50cf\u3092\u7528\u610f\u3057\u307e\u3057\u305f\u306e\u3067\u3001\u4e0b\u8a18\u3092\u30c0\u30a6\u30f3\u30ed\u30fc\u30c9\u3057\u3066\u304a\u4f7f\u3044\u304f\u3060\u3055\u3044:<br/>\n[\u56de\u8ee2\u3059\u3057\u306e\u753b\u50cf](https://raw.githubusercontent.com/kyokonishito/python_watson/master/data/sushi.jpg) (\u30ea\u30f3\u30af\u3092\u53f3\u30af\u30ea\u30c3\u30af\u3057\u3001\u300c\u30ea\u30f3\u30af\u5148\u3092\u5225\u540d\u3067\u4fdd\u5b58\u300d\u3092\u3057\u3066\u304f\u3060\u3055\u3044\u3002)\n\n\uff11. Watson Studio\u306eNotebook\u4e0a\u3001\u53f3\u4e0a\u306e`0100`\u3068\u3044\u3046\u30a2\u30a4\u30b3\u30f3\u3092\u30af\u30ea\u30c3\u30af\u3057\u3001File\u30a2\u30c3\u30d7\u30ed\u30fc\u30c9\u306e\u753b\u9762\u3092\u51fa\u3057\u307e\u3059\u3002`Drop your file here or browse your files to add a new file` \u3068\u66f8\u3044\u3066\u3042\u308b\u5834\u6240\u306b\u3001\u8a8d\u8b58\u3055\u305b\u305f\u3044\u753b\u50cf\u30d5\u30a1\u30a4\u30eb\u3092\u30c9\u30ed\u30c3\u30d7\u3057\u3001Watson Studio\u4e0a\u306eProject\u306b\u30a2\u30c3\u30d7\u30ed\u30fc\u30c9\u3057\u307e\u3059\u3002<br />\n![](https://github.com/kyokonishito/python_watson/raw/master/notebooks/images/upload.png)\n\n<br />\n<br />\n\n\uff12. \u30ed\u30fc\u30c9\u304c\u7d42\u308f\u3063\u305f\u3089Files\u3092\u30af\u30ea\u30c3\u30af\u3057\u3066\u30d5\u30a1\u30a4\u30eb\u304c\u3042\u308b\u3053\u3068\u3092\u78ba\u8a8d\u3057\u3001\u6700\u5f8c\u306b\u2716\ufe0f\u3092\u30af\u30ea\u30c3\u30af\u3057\u3066File\u753b\u9762\u3092\u9589\u3058\u308b<br />\n![](https://github.com/kyokonishito/python_watson/raw/master/notebooks/images/upload_comp.png)\n \n3: Credential\u306e\u30ed\u30fc\u30c9\n\n3-1. **\u4e0b\u306e\u30bb\u30eb\u3092\u9078\u629e\u3057\u3066\u3001\u7a7a\u306e\u884c\u306b\u30ab\u30fc\u30bd\u30eb\u3092\u7f6e\u3044\u3066\u304f\u3060\u3055\u3044\u3002** \n\n3-2. \u53f3\u4e0a\u306e`0100`\u30a2\u30a4\u30b3\u30f3\u3092\u30af\u30ea\u30c3\u30af\u3057\u3001\u30a2\u30c3\u30d7\u30ed\u30fc\u30c9\u3057\u305f\u30d5\u30a1\u30a4\u30eb\u540d\u306e\u4e0b\u306b\u3042\u308b `Insert to code`\u3092\u30af\u30ea\u30c3\u30af\u3057\u3001\u3055\u3089\u306b\u8868\u793a\u3055\u308c\u305f`Insert Credentials`\u3092\u30af\u30ea\u30c3\u30af\u3057\u3066\u304f\u3060\u3055\u3044\u3002\n\n3-3. Cloud Object Strage(COS)\u4e0a\u306e\u30d5\u30a1\u30a4\u30eb\u306eCredential `credentials_*` (*\u306f\u6570\u5b57)\u3092\u30bb\u30c3\u30c8\u3059\u308b\u30b3\u30fc\u30c9\u304c\u633f\u5165\u3055\u308c\u307e\u3059\u3002\n\n3-4.  \u3082\u3057`credentials_*`\u306e`*`\u90e8\u5206\u304c\u304c`1`\u306b\u306a\u3063\u3066\u3044\u306a\u3044\u5834\u5408\u306f\u3001`credentials_*`\u306f\u3000\u5168\u3066`credentials_1`\u306b\u5909\u66f4\u3057\u307e\u3059\u3002(\u5f8c\u306e\u30b3\u30fc\u30c9\u3067\u4f7f\u7528\u3059\u308b\u305f\u3081)\n\n3-5.  \u7de8\u96c6\u304c\u7d42\u308f\u3063\u305f\u3089\u30bb\u30eb\u3092\u5b9f\u884c\u3057\u307e\u3059\u3002\n\n\u4f8b:\u3000`credentials_*`\u306e`*`\u90e8\u5206\u304c`3`\u306b\u306a\u3063\u3066\u3044\u308b\u306e\u3067\u3001`1`\u306b\u5909\u66f4\u3059\u308b\n\n<p><span style=\"color: teal\">\n# @hidden_cell<br/>\n# The following code contains the credentials for a file in your IBM Cloud Object Storage.<br/>\n# You might want to remove those credentials before you share your notebook.<br/></span>\n<strong>credentials_3</strong> = {\n<span style=\"color: firebrick\"><br/>\n\u3000\u3000'IAM_SERVICE_ID': 'iam-ServiceId-XXXXXXXX-XXXX-XXXX-XXXX-XXXXXXXXXXXX',<br/>\n\u3000\u3000'IBM_API_KEY_ID': 'XXXXXXXXXXXXXXXXXXXXXXXXXXXXXXXXXXXXXXXXXXXX',<br/> \u3000\u3000'ENDPOINT': 'https://s3-api.us-geo.objectstorage.service.networklayer.com',<br/> \u3000\u3000'IBM_AUTH_ENDPOINT': 'https://iam.ng.bluemix.net/oidc/token',<br/>\n\u3000\u3000'BUCKET': 'xxxxxxxxxxxx-xxxxxxxxxxx-xx-xxxxxxxxxxxxxx',<br/>\n\u3000\u3000'FILE': 'XXXX.JPG'<br/>\n    </span>\n}\n</p>\n\n\n## <span style=\"color: red\">\u3053\u306e\u4e0b\u306b\u5165\u529b </span>"
        },
        {
            "metadata": {},
            "cell_type": "code",
            "source": "# \u3053\u306e\u884c\u306e\u4e0b\u306b\u30ab\u30fc\u30bd\u30eb\u3092\u7f6e\u3044\u3066\u3001Insert Credentials\u3092\u30af\u30ea\u30c3\u30af \n\n\n",
            "execution_count": null,
            "outputs": []
        },
        {
            "metadata": {},
            "cell_type": "markdown",
            "source": "4: \u3067\u306f\u30a2\u30c3\u30d7\u30ed\u30fc\u30c9\u3057\u305f\u30d5\u30a1\u30a4\u30eb\u3092\u73fe\u5728notebook\u5b9f\u884c\u4e2d\u306e\u4eee\u60f3\u74b0\u5883\u306bcredential\u3092\u4f7f\u3063\u3066\u30b3\u30d4\u30fc\u3057\u307e\u3057\u3087\u3046\u3002\n\n\u4e0b\u306e\u30bb\u30eb\u3092\u5b9f\u884c\u3057\u3066\u304f\u3060\u3055\u3044\n"
        },
        {
            "metadata": {},
            "cell_type": "code",
            "source": "import ibm_boto3\nfrom botocore.client import Config\nimport io\n\ncos = ibm_boto3.client('s3',\n                       ibm_api_key_id=credentials_1['IBM_API_KEY_ID'],\n                       ibm_service_instance_id=credentials_1['IAM_SERVICE_ID'],\n                       ibm_auth_endpoint=credentials_1['IBM_AUTH_ENDPOINT'],\n                       config=Config(signature_version='oauth'),\n                       endpoint_url=credentials_1['ENDPOINT'])\n\nfilename = credentials_1['FILE']\n\nfile=io.BytesIO( cos.get_object(Bucket=credentials_1['BUCKET'], Key=filename)['Body'].read())   ## Getting a File represented as a BytesIO Object\nwith open(filename,'wb') as out:                   \n    out.write(file.read())   ",
            "execution_count": null,
            "outputs": []
        },
        {
            "metadata": {},
            "cell_type": "markdown",
            "source": "5: \u3067\u306f\u65e9\u901f\u8aad\u307f\u8fbc\u3093\u3060\u30d5\u30a1\u30a4\u30eb\u3092\u8a8d\u8b58\u3057\u3066\u307f\u307e\u3057\u3087\u3046!\n\n\u4e0b\u306e\u30bb\u30eb\u3092\u5b9f\u884c\u3057\u3066\u304f\u3060\u3055\u3044\u3002\n"
        },
        {
            "metadata": {
                "scrolled": false
            },
            "cell_type": "code",
            "source": "with open(filename, 'rb') as images_file:\n    classes = visual_recognition.classify(\n        images_file=images_file,\n        threshold='0.6',\n       accept_language='ja').get_result()\n    print(json.dumps(classes, indent=2, ensure_ascii=False))",
            "execution_count": null,
            "outputs": []
        },
        {
            "metadata": {},
            "cell_type": "markdown",
            "source": "### 4.4 \u753b\u50cf\u8a8d\u8b58  \u4e00\u822c\u30e2\u30c7\u30eb `food` - url\u3067\u6307\u5b9a-  \n\u53c2\u8003: https://cloud.ibm.com/apidocs/visual-recognition?code=python#classify-images\n\n\u4e00\u822c\u30e2\u30c7\u30eb\u306b\u306f\u3001`default`\u306e\u5206\u985e\u30af\u30e9\u30b9\u4ee5\u5916\u306b`food``explicit`\u3068\u3044\u30462\u3064\u306e\u7279\u5225\u306a\u76ee\u7684\u306e\u5206\u985e\u30af\u30e9\u30b9\u304c\u3042\u308a\u307e\u3059\u3002\n`food`\u306f\u98df\u3079\u7269\u306b\u7279\u5316\u3057\u305f\u5206\u985e\u30af\u30e9\u30b9\u3067\u3059\u3002`explicit`\u306f\u30cd\u30c3\u30c8\u4e0a\u3067\u4e0d\u9069\u5207\u306a\u753b\u50cf\u3092\u30c1\u30a7\u30c3\u30af\u3059\u308b\u30af\u30e9\u30b9\u3068\u306a\u3063\u3066\u3044\u307e\u3059\u3002\n\n\n\u6700\u521d\u306e\u753b\u50cf\u3092\u4eca\u5ea6\u306f`food`\u306e\u5206\u985e\u30af\u30e9\u30b9\u3067\u8a8d\u8b58\u3055\u305b\u3066\u307f\u307e\u3059\u3002\n<img src=\"https://watson-developer-cloud.github.io/doc-tutorial-downloads/visual-recognition/fruitbowl.jpg\">\n\n\n\u4e0b\u306e\u30bb\u30eb\u3092\u5b9f\u884c\u3057\u3066\u304f\u3060\u3055\u3044\u3002\n\n\u5b9f\u884c\u304c\u3046\u307e\u304f\u3044\u3063\u305f\u3089\u3001\u81ea\u5206\u306e\u597d\u304d\u306a\u753b\u50cf\u306eurl\u3092`image_url2`\u306b\u30bb\u30c3\u30c8\u3057\u3066\u5b9f\u884c\u3057\u3066\u307f\u3066\u304f\u3060\u3055\u3044\u3002"
        },
        {
            "metadata": {},
            "cell_type": "code",
            "source": "image_url2 = 'https://watson-developer-cloud.github.io/doc-tutorial-downloads/visual-recognition/fruitbowl.jpg'\n\nclasses = visual_recognition.classify(\n        url=image_url2,\n        threshold='0.6',\n         classifier_ids=[\"food\"],  # \u3053\u3053\u3067food\u3092\u6307\u5b9a\n        accept_language='ja').get_result()\nprint(json.dumps(classes, indent=2,  ensure_ascii=False))\n",
            "execution_count": null,
            "outputs": []
        },
        {
            "metadata": {},
            "cell_type": "markdown",
            "source": "## 5. \u30ab\u30b9\u30bf\u30e0\u30e2\u30c7\u30eb (\u30aa\u30d7\u30b7\u30e7\u30f3)\n\n\u4e0a\u8a18\u306e\u5185\u5bb9\u306f\u3001Watson Visual Recognition\u304c\u30c7\u30d5\u30a9\u30eb\u30c8\u3067\u7528\u610f\u3057\u3066\u3044\u308b\u5b66\u7fd2\u6e08\u307f\u30e2\u30c7\u30eb\u3092\u4f7f\u3063\u3066\u3001\u753b\u50cf\u8a8d\u8b58\u3092\u300c\u4f53\u9a13\u300d\u3057\u3066\u307f\u307e\u3057\u305f\u3002Watson Visual Recognition\u3067\u306f\u30e6\u30fc\u30b6\u30fc\u81ea\u8eab\u306e\u7528\u9014\u306b\u5fdc\u3058\u305f\u753b\u50cf\u8a8d\u8b58\u306e\u305f\u3081\u306b\u3001\u5b66\u7fd2\u3092\u901a\u3058\u305f\u30ab\u30b9\u30bf\u30e0\u30fb\u30e2\u30c7\u30eb\u3082\u4f5c\u6210\u53ef\u80fd\u3067\u3059\u3002\n\n**(\u3053\u3061\u3089\u306fNotebook\u3092\u4f7f\u7528\u3057\u306a\u3044\u306e\u3067\u30aa\u30d7\u30b7\u30e7\u30f3\u3067\u3059)**<br/>\nWatson Studio\u3060\u3051\u3067\u7c21\u5358\u306b\u3067\u304d\u308b\u30ab\u30b9\u30bf\u30e0\u30fb\u30e2\u30c7\u30eb\u3092\u4f5c\u6210\u3057\u3066\u307f\u305f\u3044\u5834\u5408\u306f\u3001\u4ee5\u4e0b\u306e\u30c1\u30e5\u30fc\u30c8\u30ea\u30a2\u30eb\u3092\u304a\u8a66\u3057\u304f\u3060\u3055\u3044:\n\n[Watson Visual Recognition \u30ab\u30b9\u30bf\u30e0\u30af\u30e9\u30b9\u3092\u4f5c\u308d\u3046!](https://qiita.com/nishikyon/items/7d1c07e2f50c1002e815)\n\n\u3092\u304a\u8a66\u3057\u304f\u3060\u3055\u3044\u3002\u5c1a\u3053\u306e\u30c1\u30e5\u30fc\u30c8\u30ea\u30a2\u30eb\u306b\u306f\u5b66\u7fd2\u306b\u4f7f\u7528\u3059\u308b\u5199\u771f\u30c7\u30fc\u30bf\u304c\uff12\u7a2e\u985e\u4ee5\u4e0a\u30011\u7a2e\u985e\u306b\u3064\u304d\u305d\u308c\u305e\u308c10\u679a\u4ee5\u4e0a\u5fc5\u8981\u3067\u3059\u3002"
        },
        {
            "metadata": {},
            "cell_type": "markdown",
            "source": "# NEXT\n\u672c\u65e5\u306eNotebook\u3092\u4f7f\u7528\u3057\u305f\u30cf\u30f3\u30ba\u30aa\u30f3\u306f\u3053\u308c\u3067\u7d42\u4e86\u3068\u306a\u308a\u307e\u3059\u3002\u304a\u3064\u304b\u308c\u3055\u307e\u3067\u3057\u305f\uff01\n\n[\u5b8c\u4e86\u306e\u51e6\u7406](https://github.com/kyokonishito/python_watson#LabComptele)\u3000\u3092\u884c\u3063\u3066\u304f\u3060\u3055\u3044\u3002"
        }
    ],
    "metadata": {
        "kernelspec": {
            "name": "python3",
            "display_name": "Python 3.6",
            "language": "python"
        },
        "language_info": {
            "name": "python",
            "version": "3.6.8",
            "mimetype": "text/x-python",
            "codemirror_mode": {
                "name": "ipython",
                "version": 3
            },
            "pygments_lexer": "ipython3",
            "nbconvert_exporter": "python",
            "file_extension": ".py"
        },
        "celltoolbar": "Edit Metadata"
    },
    "nbformat": 4,
    "nbformat_minor": 1
}